{
 "cells": [
  {
   "cell_type": "markdown",
   "metadata": {},
   "source": [
    "# Load libraries and data"
   ]
  },
  {
   "cell_type": "code",
   "execution_count": 252,
   "metadata": {},
   "outputs": [],
   "source": [
    "import os\n",
    "import numpy as np\n",
    "import pandas as pd\n",
    "import matplotlib.pyplot as plt"
   ]
  },
  {
   "cell_type": "markdown",
   "metadata": {},
   "source": [
    "### Download `Confirmed positive cases of COVID-19 in Ontario`, all historic data"
   ]
  },
  {
   "cell_type": "code",
   "execution_count": null,
   "id": "6d2a40c4-3bc9-4d6a-a0a8-ef6394251112",
   "metadata": {},
   "outputs": [],
   "source": [
    "if not os.path.exists('conposcovidloc.csv'):\n",
    "    import requests\n",
    "    url = \"https://data.ontario.ca/dataset/f4112442-bdc8-45d2-be3c-12efae72fb27/resource/455fd63b-603d-4608-8216-7d8647f43350/download/conposcovidloc.csv\"\n",
    "    filename = 'conposcovidloc.csv'\n",
    "    headers = {'User-Agent': 'Mozilla/5.0 (Macintosh; Intel Mac OS X 10_10_1) AppleWebKit/537.36 (KHTML, like Gecko) Chrome/39.0.2171.95 Safari/537.36'}\n",
    "    response = requests.get(url, headers=headers)\n",
    "\n",
    "    with open(filename, mode = 'wb') as file:\n",
    "        file.write(response.content)"
   ]
  },
  {
   "cell_type": "code",
   "execution_count": null,
   "id": "3cfbcc3a-c747-4da8-90e6-81634cacdb11",
   "metadata": {},
   "outputs": [],
   "source": [
    "filename = 'conposcovidloc.csv'\n",
    "all_cases = pd.read_csv(filename)"
   ]
  },
  {
   "cell_type": "markdown",
   "metadata": {},
   "source": [
    "# Data Glimpse"
   ]
  },
  {
   "cell_type": "code",
   "execution_count": null,
   "id": "dd7f6fbb-e4b9-4aa1-952e-2b8c136bc8cf",
   "metadata": {},
   "outputs": [
    {
     "name": "stdout",
     "output_type": "stream",
     "text": [
      "<class 'pandas.core.frame.DataFrame'>\n",
      "RangeIndex: 1667957 entries, 0 to 1667956\n",
      "Data columns (total 16 columns):\n",
      " #   Column                     Non-Null Count    Dtype  \n",
      "---  ------                     --------------    -----  \n",
      " 0   Row_ID                     1667957 non-null  int64  \n",
      " 1   Accurate_Episode_Date      1667957 non-null  object \n",
      " 2   Case_Reported_Date         1667957 non-null  object \n",
      " 3   Test_Reported_Date         1616748 non-null  object \n",
      " 4   Specimen_Date              1656185 non-null  object \n",
      " 5   Age_Group                  1667957 non-null  object \n",
      " 6   Client_Gender              1667957 non-null  object \n",
      " 7   Outcome1                   17192 non-null    object \n",
      " 8   Reporting_PHU_ID           1667957 non-null  int64  \n",
      " 9   Reporting_PHU              1667957 non-null  object \n",
      " 10  Reporting_PHU_Address      1667957 non-null  object \n",
      " 11  Reporting_PHU_City         1667957 non-null  object \n",
      " 12  Reporting_PHU_Postal_Code  1667957 non-null  object \n",
      " 13  Reporting_PHU_Website      1667957 non-null  object \n",
      " 14  Reporting_PHU_Latitude     1667957 non-null  float64\n",
      " 15  Reporting_PHU_Longitude    1667957 non-null  float64\n",
      "dtypes: float64(2), int64(2), object(12)\n",
      "memory usage: 203.6+ MB\n"
     ]
    }
   ],
   "source": [
    "all_cases.info()"
   ]
  },
  {
   "cell_type": "markdown",
   "metadata": {},
   "source": [
    "# Gender and age group"
   ]
  },
  {
   "cell_type": "markdown",
   "metadata": {},
   "source": [
    "## Case count proportions"
   ]
  },
  {
   "cell_type": "code",
   "execution_count": null,
   "id": "bc0802af-6f73-470d-9b1d-07bad4a58286",
   "metadata": {},
   "outputs": [
    {
     "name": "stderr",
     "output_type": "stream",
     "text": [
      "C:\\Users\\mkuo\\AppData\\Local\\Temp\\ipykernel_25444\\289128994.py:28: FutureWarning: The default of observed=False is deprecated and will be changed to True in a future version of pandas. Pass observed=False to retain current behavior or observed=True to adopt the future default and silence this warning.\n",
      "  .groupby(['Age_Group'])['Client_Gender']\\\n"
     ]
    },
    {
     "data": {
      "text/html": [
       "<style type=\"text/css\">\n",
       "</style>\n",
       "<table id=\"T_83262\">\n",
       "  <thead>\n",
       "    <tr>\n",
       "      <th class=\"index_name level0\" >Client_Gender</th>\n",
       "      <th id=\"T_83262_level0_col0\" class=\"col_heading level0 col0\" >FEMALE</th>\n",
       "      <th id=\"T_83262_level0_col1\" class=\"col_heading level0 col1\" >MALE</th>\n",
       "      <th id=\"T_83262_level0_col2\" class=\"col_heading level0 col2\" >UNSPECIFIED</th>\n",
       "      <th id=\"T_83262_level0_col3\" class=\"col_heading level0 col3\" >GENDER DIVERSE</th>\n",
       "    </tr>\n",
       "    <tr>\n",
       "      <th class=\"index_name level0\" >Age_Group</th>\n",
       "      <th class=\"blank col0\" >&nbsp;</th>\n",
       "      <th class=\"blank col1\" >&nbsp;</th>\n",
       "      <th class=\"blank col2\" >&nbsp;</th>\n",
       "      <th class=\"blank col3\" >&nbsp;</th>\n",
       "    </tr>\n",
       "  </thead>\n",
       "  <tbody>\n",
       "    <tr>\n",
       "      <th id=\"T_83262_level0_row0\" class=\"row_heading level0 row0\" ><20</th>\n",
       "      <td id=\"T_83262_row0_col0\" class=\"data row0 col0\" >48.67%</td>\n",
       "      <td id=\"T_83262_row0_col1\" class=\"data row0 col1\" >50.09%</td>\n",
       "      <td id=\"T_83262_row0_col2\" class=\"data row0 col2\" >1.24%</td>\n",
       "      <td id=\"T_83262_row0_col3\" class=\"data row0 col3\" >0.00%</td>\n",
       "    </tr>\n",
       "    <tr>\n",
       "      <th id=\"T_83262_level0_row1\" class=\"row_heading level0 row1\" >20s</th>\n",
       "      <td id=\"T_83262_row1_col0\" class=\"data row1 col0\" >55.27%</td>\n",
       "      <td id=\"T_83262_row1_col1\" class=\"data row1 col1\" >43.89%</td>\n",
       "      <td id=\"T_83262_row1_col2\" class=\"data row1 col2\" >0.84%</td>\n",
       "      <td id=\"T_83262_row1_col3\" class=\"data row1 col3\" >0.00%</td>\n",
       "    </tr>\n",
       "    <tr>\n",
       "      <th id=\"T_83262_level0_row2\" class=\"row_heading level0 row2\" >30s</th>\n",
       "      <td id=\"T_83262_row2_col0\" class=\"data row2 col0\" >56.77%</td>\n",
       "      <td id=\"T_83262_row2_col1\" class=\"data row2 col1\" >42.61%</td>\n",
       "      <td id=\"T_83262_row2_col2\" class=\"data row2 col2\" >0.62%</td>\n",
       "      <td id=\"T_83262_row2_col3\" class=\"data row2 col3\" >0.00%</td>\n",
       "    </tr>\n",
       "    <tr>\n",
       "      <th id=\"T_83262_level0_row3\" class=\"row_heading level0 row3\" >40s</th>\n",
       "      <td id=\"T_83262_row3_col0\" class=\"data row3 col0\" >58.45%</td>\n",
       "      <td id=\"T_83262_row3_col1\" class=\"data row3 col1\" >40.98%</td>\n",
       "      <td id=\"T_83262_row3_col2\" class=\"data row3 col2\" >0.57%</td>\n",
       "      <td id=\"T_83262_row3_col3\" class=\"data row3 col3\" >0.00%</td>\n",
       "    </tr>\n",
       "    <tr>\n",
       "      <th id=\"T_83262_level0_row4\" class=\"row_heading level0 row4\" >50s</th>\n",
       "      <td id=\"T_83262_row4_col0\" class=\"data row4 col0\" >56.51%</td>\n",
       "      <td id=\"T_83262_row4_col1\" class=\"data row4 col1\" >42.97%</td>\n",
       "      <td id=\"T_83262_row4_col2\" class=\"data row4 col2\" >0.52%</td>\n",
       "      <td id=\"T_83262_row4_col3\" class=\"data row4 col3\" >0.00%</td>\n",
       "    </tr>\n",
       "    <tr>\n",
       "      <th id=\"T_83262_level0_row5\" class=\"row_heading level0 row5\" >60s</th>\n",
       "      <td id=\"T_83262_row5_col0\" class=\"data row5 col0\" >51.45%</td>\n",
       "      <td id=\"T_83262_row5_col1\" class=\"data row5 col1\" >48.09%</td>\n",
       "      <td id=\"T_83262_row5_col2\" class=\"data row5 col2\" >0.46%</td>\n",
       "      <td id=\"T_83262_row5_col3\" class=\"data row5 col3\" >0.00%</td>\n",
       "    </tr>\n",
       "    <tr>\n",
       "      <th id=\"T_83262_level0_row6\" class=\"row_heading level0 row6\" >70s</th>\n",
       "      <td id=\"T_83262_row6_col0\" class=\"data row6 col0\" >49.72%</td>\n",
       "      <td id=\"T_83262_row6_col1\" class=\"data row6 col1\" >49.95%</td>\n",
       "      <td id=\"T_83262_row6_col2\" class=\"data row6 col2\" >0.33%</td>\n",
       "      <td id=\"T_83262_row6_col3\" class=\"data row6 col3\" >0.00%</td>\n",
       "    </tr>\n",
       "    <tr>\n",
       "      <th id=\"T_83262_level0_row7\" class=\"row_heading level0 row7\" >80s</th>\n",
       "      <td id=\"T_83262_row7_col0\" class=\"data row7 col0\" >57.63%</td>\n",
       "      <td id=\"T_83262_row7_col1\" class=\"data row7 col1\" >42.11%</td>\n",
       "      <td id=\"T_83262_row7_col2\" class=\"data row7 col2\" >0.26%</td>\n",
       "      <td id=\"T_83262_row7_col3\" class=\"data row7 col3\" >0.00%</td>\n",
       "    </tr>\n",
       "    <tr>\n",
       "      <th id=\"T_83262_level0_row8\" class=\"row_heading level0 row8\" >90+</th>\n",
       "      <td id=\"T_83262_row8_col0\" class=\"data row8 col0\" >69.45%</td>\n",
       "      <td id=\"T_83262_row8_col1\" class=\"data row8 col1\" >30.28%</td>\n",
       "      <td id=\"T_83262_row8_col2\" class=\"data row8 col2\" >0.27%</td>\n",
       "      <td id=\"T_83262_row8_col3\" class=\"data row8 col3\" >0.00%</td>\n",
       "    </tr>\n",
       "    <tr>\n",
       "      <th id=\"T_83262_level0_row9\" class=\"row_heading level0 row9\" >UNKNOWN</th>\n",
       "      <td id=\"T_83262_row9_col0\" class=\"data row9 col0\" >29.98%</td>\n",
       "      <td id=\"T_83262_row9_col1\" class=\"data row9 col1\" >31.99%</td>\n",
       "      <td id=\"T_83262_row9_col2\" class=\"data row9 col2\" >38.03%</td>\n",
       "      <td id=\"T_83262_row9_col3\" class=\"data row9 col3\" >0.00%</td>\n",
       "    </tr>\n",
       "  </tbody>\n",
       "</table>\n"
      ],
      "text/plain": [
       "<pandas.io.formats.style.Styler at 0x28f3d727990>"
      ]
     },
     "execution_count": 215,
     "metadata": {},
     "output_type": "execute_result"
    }
   ],
   "source": [
    "# TODO: is there an easier way to reorder categoricals like factor in R?\n",
    "all_cases['Age_Group'] = all_cases['Age_Group']\\\n",
    "    .astype('category')\\\n",
    "    .cat.reorder_categories(\n",
    "        [\n",
    "            '<20',\n",
    "            '20s',\n",
    "            '30s',\n",
    "            '40s',\n",
    "            '50s',\n",
    "            '60s',\n",
    "            '70s',\n",
    "            '80s',\n",
    "            '90+',\n",
    "            'UNKNOWN'\n",
    "        ]\n",
    "    )\n",
    "\n",
    "# Reorder gender category for table\n",
    "all_cases[\"Client_Gender\"] = all_cases['Client_Gender']\\\n",
    "    .astype('category')\\\n",
    "    .cat.reorder_categories(\n",
    "        ['FEMALE', 'MALE', 'UNSPECIFIED', 'GENDER DIVERSE']\n",
    "    )\n",
    "\n",
    "# Get counts in proportions by age groups and gender\n",
    "gender_age_grps = all_cases\\\n",
    "    .groupby(['Age_Group'])['Client_Gender']\\\n",
    "    .value_counts(normalize=True)\\\n",
    "    .to_frame(name='prop')\\\n",
    "    .reset_index()\n",
    "\n",
    "\n",
    "# Pivot wider to table and format numerics to percents\n",
    "gender_age_grps\\\n",
    "    .pivot(\n",
    "        index=\"Age_Group\",\n",
    "        columns=\"Client_Gender\",\n",
    "        values=\"prop\"\n",
    "    )\\\n",
    "    .style.format({\n",
    "        \"FEMALE\": \"{:.2%}\",\n",
    "        \"MALE\": \"{:.2%}\",\n",
    "        \"UNSPECIFIED\": \"{:.2%}\",\n",
    "        \"GENDER DIVERSE\": \"{:.2%}\",\n",
    "    })"
   ]
  },
  {
   "cell_type": "code",
   "execution_count": null,
   "metadata": {},
   "outputs": [
    {
     "data": {
      "text/plain": [
       "Text(0.5, 0, 'Age Groups')"
      ]
     },
     "execution_count": 216,
     "metadata": {},
     "output_type": "execute_result"
    },
    {
     "data": {
      "image/png": "[encoded data removed]",
      "text/plain": [
       "<Figure size 640x480 with 1 Axes>"
      ]
     },
     "metadata": {},
     "output_type": "display_data"
    }
   ],
   "source": [
    "female = gender_age_grps[gender_age_grps.Client_Gender == \"FEMALE\"]\\\n",
    "            .sort_values('Age_Group')\n",
    "male   = gender_age_grps[gender_age_grps.Client_Gender == \"MALE\"]\\\n",
    "            .sort_values('Age_Group')\n",
    "\n",
    "x_indexes = np.arange(len(female))\n",
    "width = 0.25\n",
    "\n",
    "plt.bar(x_indexes - width / 2, female[\"prop\"], width = width, label=\"Female\")\n",
    "plt.bar(x_indexes + width / 2, male[\"prop\"],   width = width, label=\"Male\")\n",
    "\n",
    "plt.legend()\n",
    "\n",
    "plt.xticks(ticks = x_indexes, labels = female['Age_Group'])\n",
    "\n",
    "plt.title('Case proportions by age groups and gender')\n",
    "plt.ylabel('Proportion')\n",
    "plt.xlabel('Age Groups')\n"
   ]
  },
  {
   "cell_type": "code",
   "execution_count": null,
   "metadata": {},
   "outputs": [],
   "source": [
    "all_cases['Outcome1'].fillna('SURVIVED', inplace=True)"
   ]
  },
  {
   "cell_type": "markdown",
   "metadata": {},
   "source": [
    "## Mortality"
   ]
  },
  {
   "cell_type": "code",
   "execution_count": null,
   "metadata": {},
   "outputs": [
    {
     "name": "stderr",
     "output_type": "stream",
     "text": [
      "C:\\Users\\mkuo\\AppData\\Local\\Temp\\ipykernel_25444\\2734174232.py:2: FutureWarning: The default of observed=False is deprecated and will be changed to True in a future version of pandas. Pass observed=False to retain current behavior or observed=True to adopt the future default and silence this warning.\n",
      "  .groupby(['Age_Group', 'Client_Gender'])['Outcome1']\\\n"
     ]
    },
    {
     "data": {
      "text/html": [
       "<style type=\"text/css\">\n",
       "</style>\n",
       "<table id=\"T_ed0f0\">\n",
       "  <thead>\n",
       "    <tr>\n",
       "      <th class=\"index_name level0\" >Client_Gender</th>\n",
       "      <th id=\"T_ed0f0_level0_col0\" class=\"col_heading level0 col0\" >FEMALE</th>\n",
       "      <th id=\"T_ed0f0_level0_col1\" class=\"col_heading level0 col1\" >MALE</th>\n",
       "      <th id=\"T_ed0f0_level0_col2\" class=\"col_heading level0 col2\" >UNSPECIFIED</th>\n",
       "      <th id=\"T_ed0f0_level0_col3\" class=\"col_heading level0 col3\" >GENDER DIVERSE</th>\n",
       "    </tr>\n",
       "    <tr>\n",
       "      <th class=\"index_name level0\" >Age_Group</th>\n",
       "      <th class=\"blank col0\" >&nbsp;</th>\n",
       "      <th class=\"blank col1\" >&nbsp;</th>\n",
       "      <th class=\"blank col2\" >&nbsp;</th>\n",
       "      <th class=\"blank col3\" >&nbsp;</th>\n",
       "    </tr>\n",
       "  </thead>\n",
       "  <tbody>\n",
       "    <tr>\n",
       "      <th id=\"T_ed0f0_level0_row0\" class=\"row_heading level0 row0\" ><20</th>\n",
       "      <td id=\"T_ed0f0_row0_col0\" class=\"data row0 col0\" >0.01%</td>\n",
       "      <td id=\"T_ed0f0_row0_col1\" class=\"data row0 col1\" >0.01%</td>\n",
       "      <td id=\"T_ed0f0_row0_col2\" class=\"data row0 col2\" >0.00%</td>\n",
       "      <td id=\"T_ed0f0_row0_col3\" class=\"data row0 col3\" >0.00%</td>\n",
       "    </tr>\n",
       "    <tr>\n",
       "      <th id=\"T_ed0f0_level0_row1\" class=\"row_heading level0 row1\" >20s</th>\n",
       "      <td id=\"T_ed0f0_row1_col0\" class=\"data row1 col0\" >0.01%</td>\n",
       "      <td id=\"T_ed0f0_row1_col1\" class=\"data row1 col1\" >0.02%</td>\n",
       "      <td id=\"T_ed0f0_row1_col2\" class=\"data row1 col2\" >0.08%</td>\n",
       "      <td id=\"T_ed0f0_row1_col3\" class=\"data row1 col3\" >0.00%</td>\n",
       "    </tr>\n",
       "    <tr>\n",
       "      <th id=\"T_ed0f0_level0_row2\" class=\"row_heading level0 row2\" >30s</th>\n",
       "      <td id=\"T_ed0f0_row2_col0\" class=\"data row2 col0\" >0.02%</td>\n",
       "      <td id=\"T_ed0f0_row2_col1\" class=\"data row2 col1\" >0.07%</td>\n",
       "      <td id=\"T_ed0f0_row2_col2\" class=\"data row2 col2\" >0.00%</td>\n",
       "      <td id=\"T_ed0f0_row2_col3\" class=\"data row2 col3\" >0.00%</td>\n",
       "    </tr>\n",
       "    <tr>\n",
       "      <th id=\"T_ed0f0_level0_row3\" class=\"row_heading level0 row3\" >40s</th>\n",
       "      <td id=\"T_ed0f0_row3_col0\" class=\"data row3 col0\" >0.07%</td>\n",
       "      <td id=\"T_ed0f0_row3_col1\" class=\"data row3 col1\" >0.17%</td>\n",
       "      <td id=\"T_ed0f0_row3_col2\" class=\"data row3 col2\" >0.08%</td>\n",
       "      <td id=\"T_ed0f0_row3_col3\" class=\"data row3 col3\" >0.00%</td>\n",
       "    </tr>\n",
       "    <tr>\n",
       "      <th id=\"T_ed0f0_level0_row4\" class=\"row_heading level0 row4\" >50s</th>\n",
       "      <td id=\"T_ed0f0_row4_col0\" class=\"data row4 col0\" >0.24%</td>\n",
       "      <td id=\"T_ed0f0_row4_col1\" class=\"data row4 col1\" >0.53%</td>\n",
       "      <td id=\"T_ed0f0_row4_col2\" class=\"data row4 col2\" >0.18%</td>\n",
       "      <td id=\"T_ed0f0_row4_col3\" class=\"data row4 col3\" >0.00%</td>\n",
       "    </tr>\n",
       "    <tr>\n",
       "      <th id=\"T_ed0f0_level0_row5\" class=\"row_heading level0 row5\" >60s</th>\n",
       "      <td id=\"T_ed0f0_row5_col0\" class=\"data row5 col0\" >0.90%</td>\n",
       "      <td id=\"T_ed0f0_row5_col1\" class=\"data row5 col1\" >1.75%</td>\n",
       "      <td id=\"T_ed0f0_row5_col2\" class=\"data row5 col2\" >0.45%</td>\n",
       "      <td id=\"T_ed0f0_row5_col3\" class=\"data row5 col3\" >0.00%</td>\n",
       "    </tr>\n",
       "    <tr>\n",
       "      <th id=\"T_ed0f0_level0_row6\" class=\"row_heading level0 row6\" >70s</th>\n",
       "      <td id=\"T_ed0f0_row6_col0\" class=\"data row6 col0\" >2.68%</td>\n",
       "      <td id=\"T_ed0f0_row6_col1\" class=\"data row6 col1\" >4.20%</td>\n",
       "      <td id=\"T_ed0f0_row6_col2\" class=\"data row6 col2\" >1.76%</td>\n",
       "      <td id=\"T_ed0f0_row6_col3\" class=\"data row6 col3\" >0.00%</td>\n",
       "    </tr>\n",
       "    <tr>\n",
       "      <th id=\"T_ed0f0_level0_row7\" class=\"row_heading level0 row7\" >80s</th>\n",
       "      <td id=\"T_ed0f0_row7_col0\" class=\"data row7 col0\" >4.66%</td>\n",
       "      <td id=\"T_ed0f0_row7_col1\" class=\"data row7 col1\" >7.39%</td>\n",
       "      <td id=\"T_ed0f0_row7_col2\" class=\"data row7 col2\" >8.08%</td>\n",
       "      <td id=\"T_ed0f0_row7_col3\" class=\"data row7 col3\" >0.00%</td>\n",
       "    </tr>\n",
       "    <tr>\n",
       "      <th id=\"T_ed0f0_level0_row8\" class=\"row_heading level0 row8\" >90+</th>\n",
       "      <td id=\"T_ed0f0_row8_col0\" class=\"data row8 col0\" >6.93%</td>\n",
       "      <td id=\"T_ed0f0_row8_col1\" class=\"data row8 col1\" >10.15%</td>\n",
       "      <td id=\"T_ed0f0_row8_col2\" class=\"data row8 col2\" >12.50%</td>\n",
       "      <td id=\"T_ed0f0_row8_col3\" class=\"data row8 col3\" >0.00%</td>\n",
       "    </tr>\n",
       "    <tr>\n",
       "      <th id=\"T_ed0f0_level0_row9\" class=\"row_heading level0 row9\" >UNKNOWN</th>\n",
       "      <td id=\"T_ed0f0_row9_col0\" class=\"data row9 col0\" >0.00%</td>\n",
       "      <td id=\"T_ed0f0_row9_col1\" class=\"data row9 col1\" >0.57%</td>\n",
       "      <td id=\"T_ed0f0_row9_col2\" class=\"data row9 col2\" >0.00%</td>\n",
       "      <td id=\"T_ed0f0_row9_col3\" class=\"data row9 col3\" >0.00%</td>\n",
       "    </tr>\n",
       "  </tbody>\n",
       "</table>\n"
      ],
      "text/plain": [
       "<pandas.io.formats.style.Styler at 0x28f3c7df590>"
      ]
     },
     "execution_count": 247,
     "metadata": {},
     "output_type": "execute_result"
    }
   ],
   "source": [
    "survival_prop = all_cases\\\n",
    "    .groupby(['Age_Group', 'Client_Gender'])['Outcome1']\\\n",
    "    .value_counts(normalize=True)\\\n",
    "    .to_frame(name='prop')\\\n",
    "    .reset_index()\n",
    "\n",
    "survival_prop = survival_prop.loc[survival_prop.Outcome1 == 'FATAL']\n",
    "\n",
    "survival_prop\\\n",
    "    .pivot(\n",
    "        index=\"Age_Group\",\n",
    "        columns=\"Client_Gender\",\n",
    "        values=\"prop\"\n",
    "    )\\\n",
    "    .style.format({\n",
    "        \"FEMALE\": \"{:.2%}\",\n",
    "        \"MALE\": \"{:.2%}\",\n",
    "        \"UNSPECIFIED\": \"{:.2%}\",\n",
    "        \"GENDER DIVERSE\": \"{:.2%}\",\n",
    "    })\n"
   ]
  },
  {
   "cell_type": "code",
   "execution_count": null,
   "metadata": {},
   "outputs": [
    {
     "data": {
      "text/plain": [
       "Text(0.5, 0, 'Age Groups')"
      ]
     },
     "execution_count": 248,
     "metadata": {},
     "output_type": "execute_result"
    },
    {
     "data": {
      "image/png": "[encoded data removed]",
      "text/plain": [
       "<Figure size 640x480 with 1 Axes>"
      ]
     },
     "metadata": {},
     "output_type": "display_data"
    }
   ],
   "source": [
    "female = survival_prop[survival_prop.Client_Gender == \"FEMALE\"]\\\n",
    "            .sort_values('Age_Group')\n",
    "male   = survival_prop[survival_prop.Client_Gender == \"MALE\"]\\\n",
    "            .sort_values('Age_Group')\n",
    "\n",
    "x_indexes = np.arange(len(female))\n",
    "width = 0.25\n",
    "\n",
    "plt.bar(x_indexes - width / 2, female[\"prop\"], width = width, label=\"Female\")\n",
    "plt.bar(x_indexes + width / 2, male[\"prop\"],   width = width, label=\"Male\")\n",
    "\n",
    "plt.legend()\n",
    "\n",
    "plt.xticks(ticks = x_indexes, labels = female['Age_Group'])\n",
    "\n",
    "plt.title('Mortality proportions by age groups and gender')\n",
    "plt.ylabel('Proportion')\n",
    "plt.xlabel('Age Groups')"
   ]
  }
 ],
 "metadata": {
  "kernelspec": {
   "display_name": "Python 3 (ipykernel)",
   "language": "python",
   "name": "python3"
  },
  "language_info": {
   "codemirror_mode": {
    "name": "ipython",
    "version": 3
   },
   "file_extension": ".py",
   "mimetype": "text/x-python",
   "name": "python",
   "nbconvert_exporter": "python",
   "pygments_lexer": "ipython3",
   "version": "3.11.5"
  }
 },
 "nbformat": 4,
 "nbformat_minor": 5
}
